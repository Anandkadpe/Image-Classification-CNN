{
  "nbformat": 4,
  "nbformat_minor": 0,
  "metadata": {
    "colab": {
      "provenance": [],
      "gpuType": "T4"
    },
    "kernelspec": {
      "name": "python3",
      "display_name": "Python 3"
    },
    "language_info": {
      "name": "python"
    },
    "accelerator": "GPU"
  },
  "cells": [
    {
      "cell_type": "markdown",
      "source": [
        "##1. importing all necessory libraries"
      ],
      "metadata": {
        "id": "9i5P3gqyAzdL"
      }
    },
    {
      "cell_type": "code",
      "execution_count": 4,
      "metadata": {
        "colab": {
          "base_uri": "https://localhost:8080/"
        },
        "id": "CivUlhOlAuEd",
        "outputId": "3e6cb41b-699d-4779-c4eb-c2e7c109100d"
      },
      "outputs": [
        {
          "output_type": "stream",
          "name": "stdout",
          "text": [
            "2.5.1+cu124\n",
            "0.20.1+cu124\n"
          ]
        }
      ],
      "source": [
        "#import torch\n",
        "import torch\n",
        "import torch.nn\n",
        "\n",
        "# import torcvision\n",
        "import torchvision\n",
        "from torchvision import datasets\n",
        "from torchvision import transforms\n",
        "from torchvision.transforms import ToTensor\n",
        "from torch.utils.data import DataLoader\n",
        "\n",
        "#for data visualization import matplotlib\n",
        "import matplotlib.pyplot as plt\n",
        "\n",
        "#always check version\n",
        "print(torch.__version__)\n",
        "print(torchvision.__version__)\n"
      ]
    },
    {
      "cell_type": "markdown",
      "source": [
        "## 2. Getting a Dataset\n",
        "The dataset I am using is ImageNet data set from torchvision.dataset https://pytorch.org/vision/stable/generated/torchvision.datasets.ImageNet.html#torchvision.datasets.ImageNet"
      ],
      "metadata": {
        "id": "OcZFVEPWEfTt"
      }
    },
    {
      "cell_type": "code",
      "source": [
        "# Define transformations (Resizing & Normalization)\n",
        "transform = transforms.Compose([\n",
        "    transforms.Resize((32, 32)),  # Resize all images to 32x32\n",
        "    transforms.ToTensor(),         # Convert images to tensors\n",
        "    transforms.Normalize((0.5,), (0.5,))  # Normalize (for better training stability)\n",
        "])\n",
        "\n",
        "# steup a training data\n",
        "train_data = torchvision.datasets.GTSRB(\n",
        "    root = \"data\", #where to download the data\n",
        "    split = \"train\", # do we want a training dataset --> True\n",
        "    download = True, # do we want to download the dataset --> yes\n",
        "    transform = transform, # how do we want to trasform the data\n",
        "    target_transform = None  # how do we want to transform the labels\n",
        ")\n",
        "\n",
        "# setting up the test data\n",
        "\n",
        "test_data = torchvision.datasets.GTSRB(\n",
        "    root = \"data\", #where to download the data\n",
        "    split = \"test\", # do we want a training dataset --> False\n",
        "    download = True, # do we want to download the dataset --> yes\n",
        "    transform = transform, # how do we want to trasform the data\n",
        "    target_transform = None # how do we want to transform the labels\n",
        ")"
      ],
      "metadata": {
        "id": "HAIoOshHByXe",
        "colab": {
          "base_uri": "https://localhost:8080/"
        },
        "outputId": "5f539f72-ff03-48e4-9180-0b6a9274cc3e"
      },
      "execution_count": 5,
      "outputs": [
        {
          "output_type": "stream",
          "name": "stdout",
          "text": [
            "Downloading https://sid.erda.dk/public/archives/daaeac0d7ce1152aea9b61d9f1e19370/GTSRB-Training_fixed.zip to data/gtsrb/GTSRB-Training_fixed.zip\n"
          ]
        },
        {
          "output_type": "stream",
          "name": "stderr",
          "text": [
            "100%|██████████| 187M/187M [00:19<00:00, 9.83MB/s]\n"
          ]
        },
        {
          "output_type": "stream",
          "name": "stdout",
          "text": [
            "Extracting data/gtsrb/GTSRB-Training_fixed.zip to data/gtsrb\n",
            "Downloading https://sid.erda.dk/public/archives/daaeac0d7ce1152aea9b61d9f1e19370/GTSRB_Final_Test_Images.zip to data/gtsrb/GTSRB_Final_Test_Images.zip\n"
          ]
        },
        {
          "output_type": "stream",
          "name": "stderr",
          "text": [
            "100%|██████████| 89.0M/89.0M [00:10<00:00, 8.34MB/s]\n"
          ]
        },
        {
          "output_type": "stream",
          "name": "stdout",
          "text": [
            "Extracting data/gtsrb/GTSRB_Final_Test_Images.zip to data/gtsrb\n",
            "Downloading https://sid.erda.dk/public/archives/daaeac0d7ce1152aea9b61d9f1e19370/GTSRB_Final_Test_GT.zip to data/gtsrb/GTSRB_Final_Test_GT.zip\n"
          ]
        },
        {
          "output_type": "stream",
          "name": "stderr",
          "text": [
            "100%|██████████| 99.6k/99.6k [00:00<00:00, 192kB/s]\n"
          ]
        },
        {
          "output_type": "stream",
          "name": "stdout",
          "text": [
            "Extracting data/gtsrb/GTSRB_Final_Test_GT.zip to data/gtsrb\n"
          ]
        }
      ]
    },
    {
      "cell_type": "code",
      "source": [
        " #checking the length of the data\n",
        " len(train_data), len(test_data), train_data[0][0].shape"
      ],
      "metadata": {
        "colab": {
          "base_uri": "https://localhost:8080/"
        },
        "id": "IdFdKT_5GNXV",
        "outputId": "584e097a-2555-4f71-d66a-10fa9edc0281"
      },
      "execution_count": 27,
      "outputs": [
        {
          "output_type": "execute_result",
          "data": {
            "text/plain": [
              "(26640, 12630, torch.Size([3, 32, 32]))"
            ]
          },
          "metadata": {},
          "execution_count": 27
        }
      ]
    },
    {
      "cell_type": "code",
      "source": [
        "# checking the data\n",
        "image, label = train_data[5342]\n",
        "print(f\"shape of the image is {image.shape}, [color channels, height, width]\")\n",
        "print(f\"label of the image is {label}\")"
      ],
      "metadata": {
        "colab": {
          "base_uri": "https://localhost:8080/"
        },
        "id": "mSI6fZmKGNUn",
        "outputId": "ec792f5a-c668-4937-94f5-c1d3922acd7b"
      },
      "execution_count": 8,
      "outputs": [
        {
          "output_type": "stream",
          "name": "stdout",
          "text": [
            "shape of the image is torch.Size([3, 32, 32]), [color channels, height, width]\n",
            "label of the image is 4\n"
          ]
        }
      ]
    },
    {
      "cell_type": "markdown",
      "source": [
        "##1.1 visulaizing the data"
      ],
      "metadata": {
        "id": "niqPkClvN6xQ"
      }
    },
    {
      "cell_type": "code",
      "source": [
        "print(f\"shape of the image {image.shape}\")\n",
        "greyscale_transform = transforms.Grayscale(num_output_channels=1)\n",
        "image = greyscale_transform(image)\n",
        "print(f\"shape of the image {image.shape}\")\n",
        "plt.imshow(image.squeeze())"
      ],
      "metadata": {
        "colab": {
          "base_uri": "https://localhost:8080/",
          "height": 482
        },
        "id": "piGGZ7MRGNR8",
        "outputId": "3917feca-0d53-492f-deac-f5470342029f"
      },
      "execution_count": 9,
      "outputs": [
        {
          "output_type": "stream",
          "name": "stdout",
          "text": [
            "shape of the image torch.Size([3, 32, 32])\n",
            "shape of the image torch.Size([1, 32, 32])\n"
          ]
        },
        {
          "output_type": "execute_result",
          "data": {
            "text/plain": [
              "<matplotlib.image.AxesImage at 0x7b058743a710>"
            ]
          },
          "metadata": {},
          "execution_count": 9
        },
        {
          "output_type": "display_data",
          "data": {
            "text/plain": [
              "<Figure size 640x480 with 1 Axes>"
            ],
            "image/png": "[encoded data removed]"
          },
          "metadata": {}
        }
      ]
    },
    {
      "cell_type": "code",
      "source": [
        "train_loader = DataLoader(train_data,\n",
        "                          batch_size=64,\n",
        "                          shuffle=True)\n",
        "test_loader = DataLoader(test_data,\n",
        "                         batch_size=64,\n",
        "                         shuffle=False)"
      ],
      "metadata": {
        "id": "Z_eS2TJrPdDf"
      },
      "execution_count": 10,
      "outputs": []
    },
    {
      "cell_type": "code",
      "source": [
        "# def objective(trail):\n",
        "#   #next hyperparameters values from the search space\n",
        "#   num_hidden_layers = trial.suggest_int(\"num_hidden_layers\", 1, 5)\n",
        "#   neurons_per_layer = trial.suggest_int(\"neurons_per_layer\", 8, 128, step = 8)\n",
        "#   learning_rate = trial.suggest_float(\"learning_rate\", 1e-5, 1e-1, log = True)\n",
        "\n",
        "#   #model init\n",
        "#   input_dim = X_train.shape[1]\n",
        "#   output_dim = 43\n",
        "\n",
        "#   mode\n",
        "#   return num_hidden_layers, neurons_per_layer, learning_rate"
      ],
      "metadata": {
        "id": "t2Zvl0odypgi"
      },
      "execution_count": 11,
      "outputs": []
    },
    {
      "cell_type": "code",
      "source": [
        "\n",
        "# Get a batch of images\n",
        "images, labels = next(iter(train_loader))\n",
        "\n",
        "# Function to display images\n",
        "def show_images(images, labels):\n",
        "    fig, axes = plt.subplots(4, 4, figsize=(8, 8))\n",
        "    axes = axes.flatten()\n",
        "\n",
        "    for img, label, ax in zip(images, labels, axes):\n",
        "        img = img.permute(1, 2, 0)  # Convert [C, H, W] to [H, W, C] for display\n",
        "        ax.imshow(img)\n",
        "        ax.axis(\"off\")\n",
        "\n",
        "    plt.tight_layout()\n",
        "    plt.show()\n",
        "\n",
        "# Show images with labels\n",
        "show_images(images, labels)\n"
      ],
      "metadata": {
        "colab": {
          "base_uri": "https://localhost:8080/",
          "height": 1000
        },
        "id": "gRuogny2LNEr",
        "outputId": "efd3f12d-0e15-4edb-9f44-913cf62fcdb1"
      },
      "execution_count": 12,
      "outputs": [
        {
          "output_type": "stream",
          "name": "stderr",
          "text": [
            "WARNING:matplotlib.image:Clipping input data to the valid range for imshow with RGB data ([0..1] for floats or [0..255] for integers). Got range [-0.8980392..-0.372549].\n",
            "WARNING:matplotlib.image:Clipping input data to the valid range for imshow with RGB data ([0..1] for floats or [0..255] for integers). Got range [-0.9137255..1.0].\n",
            "WARNING:matplotlib.image:Clipping input data to the valid range for imshow with RGB data ([0..1] for floats or [0..255] for integers). Got range [-0.92941177..-0.52156866].\n",
            "WARNING:matplotlib.image:Clipping input data to the valid range for imshow with RGB data ([0..1] for floats or [0..255] for integers). Got range [-0.85882354..1.0].\n",
            "WARNING:matplotlib.image:Clipping input data to the valid range for imshow with RGB data ([0..1] for floats or [0..255] for integers). Got range [-0.62352943..1.0].\n",
            "WARNING:matplotlib.image:Clipping input data to the valid range for imshow with RGB data ([0..1] for floats or [0..255] for integers). Got range [-0.94509804..0.09019613].\n",
            "WARNING:matplotlib.image:Clipping input data to the valid range for imshow with RGB data ([0..1] for floats or [0..255] for integers). Got range [-0.9137255..-0.41176468].\n",
            "WARNING:matplotlib.image:Clipping input data to the valid range for imshow with RGB data ([0..1] for floats or [0..255] for integers). Got range [-0.8666667..0.3176471].\n",
            "WARNING:matplotlib.image:Clipping input data to the valid range for imshow with RGB data ([0..1] for floats or [0..255] for integers). Got range [-0.5764706..1.0].\n",
            "WARNING:matplotlib.image:Clipping input data to the valid range for imshow with RGB data ([0..1] for floats or [0..255] for integers). Got range [-0.5058824..1.0].\n",
            "WARNING:matplotlib.image:Clipping input data to the valid range for imshow with RGB data ([0..1] for floats or [0..255] for integers). Got range [-0.84313726..1.0].\n",
            "WARNING:matplotlib.image:Clipping input data to the valid range for imshow with RGB data ([0..1] for floats or [0..255] for integers). Got range [-0.7019608..0.7490196].\n",
            "WARNING:matplotlib.image:Clipping input data to the valid range for imshow with RGB data ([0..1] for floats or [0..255] for integers). Got range [-0.9372549..-0.7019608].\n",
            "WARNING:matplotlib.image:Clipping input data to the valid range for imshow with RGB data ([0..1] for floats or [0..255] for integers). Got range [-0.6784314..-0.12941176].\n",
            "WARNING:matplotlib.image:Clipping input data to the valid range for imshow with RGB data ([0..1] for floats or [0..255] for integers). Got range [-0.8745098..1.0].\n",
            "WARNING:matplotlib.image:Clipping input data to the valid range for imshow with RGB data ([0..1] for floats or [0..255] for integers). Got range [-0.77254903..0.81960785].\n"
          ]
        },
        {
          "output_type": "display_data",
          "data": {
            "text/plain": [
              "<Figure size 800x800 with 16 Axes>"
            ],
            "image/png": "[encoded data removed]"
          },
          "metadata": {}
        }
      ]
    },
    {
      "cell_type": "markdown",
      "source": [
        "##3. Building a Model\n"
      ],
      "metadata": {
        "id": "8ZJkXir7-y1m"
      }
    },
    {
      "cell_type": "code",
      "source": [
        "from torch import nn\n",
        "import torch.nn.functional as F\n",
        "class TrafficSigCNN(nn.Module):\n",
        "  def __init__(self, num_classes = 43):\n",
        "    super(TrafficSigCNN, self).__init__()\n",
        "    self.network = nn.Sequential(\n",
        "    nn.Conv2d(in_channels=3, out_channels=32, kernel_size=3, stride=1, padding= 'same'),\n",
        "    nn.ReLU(),\n",
        "    nn.BatchNorm2d(32),\n",
        "    nn.Dropout(0.3),\n",
        "    nn.MaxPool2d(kernel_size=3, stride=2),\n",
        "\n",
        "    nn.Conv2d(32, 64, kernel_size=3, stride=1, padding='same'),\n",
        "    nn.ReLU(),\n",
        "    nn.BatchNorm2d(64),\n",
        "    nn.Dropout(0.3),\n",
        "    nn.MaxPool2d(kernel_size=3, stride=2),\n",
        "\n",
        "    nn.Conv2d(64, 128, kernel_size=3, stride=1, padding='same'),\n",
        "    nn.ReLU(),\n",
        "    nn.BatchNorm2d(128),\n",
        "    nn.Dropout(0.3),\n",
        "    nn.MaxPool2d(kernel_size=3, stride= 2),\n",
        "    )\n",
        "\n",
        "    self.flattened_size = self._get_flattened_size()\n",
        "\n",
        "    self.classifier = nn.Sequential(\n",
        "    nn.Flatten(),\n",
        "    nn.Linear( self.flattened_size, 256),\n",
        "    nn.ReLU(),\n",
        "    nn.Dropout(0.5),\n",
        "    nn.Linear( 256 , num_classes),\n",
        "    nn.Dropout(0.5))\n",
        "\n",
        "  def _get_flattened_size(self):\n",
        "    with torch.no_grad():\n",
        "        sample_input = torch.randn(1, 3, 32, 32)\n",
        "        output = self.network(sample_input)\n",
        "        return output.view(1, -1).size(1)\n",
        "\n",
        "  def forward(self, x):\n",
        "    x = self.network(x)\n",
        "    x = self.classifier(x)\n",
        "    return x\n",
        "\n",
        "model = TrafficSigCNN(num_classes= 43)\n",
        "criterion = nn.CrossEntropyLoss()\n",
        "optimizer = torch.optim.Adam(model.parameters(), lr=0.001)\n"
      ],
      "metadata": {
        "id": "_2J2UGMu8kG8"
      },
      "execution_count": 48,
      "outputs": []
    },
    {
      "cell_type": "code",
      "source": [
        "device = torch.device(\"cuda\" if torch.cuda.is_available() else \"cpu\")\n",
        "model = model.to(device)"
      ],
      "metadata": {
        "id": "5wlWOUECRg3m"
      },
      "execution_count": 49,
      "outputs": []
    },
    {
      "cell_type": "code",
      "source": [
        "num_epochs = 10\n",
        "for epoch in range(num_epochs):\n",
        "    model.train()\n",
        "    running_loss = 0.0\n",
        "    for images, labels in train_loader:\n",
        "        images, labels = images.to(device), labels.to(device)\n",
        "\n",
        "        # Forward pass\n",
        "        outputs = model(images)\n",
        "        loss = criterion(outputs, labels)\n",
        "\n",
        "        # Backward pass and optimize\n",
        "        optimizer.zero_grad()\n",
        "        loss.backward()\n",
        "        optimizer.step()\n",
        "\n",
        "        running_loss += loss.item()\n",
        "\n",
        "    print(f\"Epoch [{epoch+1}/{num_epochs}], Loss: {running_loss/len(train_loader):.4f}\")\n",
        "\n",
        "    model.eval()\n",
        "    val_loss = 0.0\n",
        "    correct = 0\n",
        "    total = 0\n",
        "    with torch.no_grad():\n",
        "        for images, labels in test_loader:\n",
        "            images, labels = images.to(device), labels.to(device)\n",
        "            outputs = model(images)\n",
        "            loss = criterion(outputs, labels)\n",
        "            val_loss += loss.item()\n",
        "            _, predicted = torch.max(outputs.data, 1)\n",
        "            total += labels.size(0)\n",
        "            correct += (predicted == labels).sum().item()\n",
        "\n",
        "    print(f\"Validation Loss: {val_loss/len(test_loader):.4f}, Accuracy: {100 * correct / total:.2f}%\")"
      ],
      "metadata": {
        "colab": {
          "base_uri": "https://localhost:8080/"
        },
        "id": "P1BL81FVTOen",
        "outputId": "99fe4895-02bc-411c-b230-214c6ac9a5c1"
      },
      "execution_count": 53,
      "outputs": [
        {
          "output_type": "stream",
          "name": "stdout",
          "text": [
            "Epoch [1/10], Loss: 1.6088\n",
            "Validation Loss: 0.6289, Accuracy: 89.89%\n",
            "Epoch [2/10], Loss: 1.6203\n",
            "Validation Loss: 0.7331, Accuracy: 89.83%\n",
            "Epoch [3/10], Loss: 1.6179\n",
            "Validation Loss: 0.6722, Accuracy: 90.26%\n",
            "Epoch [4/10], Loss: 1.6176\n",
            "Validation Loss: 1.2830, Accuracy: 88.40%\n",
            "Epoch [5/10], Loss: 1.6057\n",
            "Validation Loss: 0.7371, Accuracy: 91.32%\n",
            "Epoch [6/10], Loss: 1.6186\n",
            "Validation Loss: 1.1731, Accuracy: 89.17%\n",
            "Epoch [7/10], Loss: 1.6005\n",
            "Validation Loss: 0.8183, Accuracy: 90.33%\n",
            "Epoch [8/10], Loss: 1.6056\n",
            "Validation Loss: 0.4915, Accuracy: 92.40%\n",
            "Epoch [9/10], Loss: 1.6321\n",
            "Validation Loss: 0.7681, Accuracy: 90.08%\n",
            "Epoch [10/10], Loss: 1.6118\n",
            "Validation Loss: 0.6288, Accuracy: 91.39%\n"
          ]
        }
      ]
    },
    {
      "cell_type": "code",
      "source": [
        "model.eval()\n",
        "val_loss = 0.0\n",
        "correct = 0\n",
        "total = 0\n",
        "with torch.no_grad():\n",
        "  for images, labels in train_loader:\n",
        "    images, labels = images.to(device), labels.to(device)\n",
        "    outputs = model(images)\n",
        "    loss = criterion(outputs, labels)\n",
        "    val_loss += loss.item()\n",
        "    _, predicted = torch.max(outputs.data, 1)\n",
        "    total += labels.size(0)\n",
        "    correct += (predicted == labels).sum().item()\n",
        "    break\n",
        "\n",
        "  print(f\"Validation Loss: {val_loss/len(train_loader):.4f}, Accuracy: {100 * correct / total:.2f}%\")"
      ],
      "metadata": {
        "colab": {
          "base_uri": "https://localhost:8080/"
        },
        "id": "G6BdM0RuxCyo",
        "outputId": "f18b18f4-21ba-454d-a1c0-f25acf329098"
      },
      "execution_count": 56,
      "outputs": [
        {
          "output_type": "stream",
          "name": "stdout",
          "text": [
            "Validation Loss: 0.0000, Accuracy: 100.00%\n"
          ]
        }
      ]
    },
    {
      "cell_type": "code",
      "source": [
        "torch.save(model.state_dict(), \"gtsrb_cnn_pytorch.pth\")"
      ],
      "metadata": {
        "id": "n7GOv7rwWv77",
        "colab": {
          "base_uri": "https://localhost:8080/",
          "height": 141
        },
        "outputId": "e9d164c1-14f8-4c68-8c3c-aa8d239aef2c"
      },
      "execution_count": 3,
      "outputs": [
        {
          "output_type": "error",
          "ename": "NameError",
          "evalue": "name 'torch' is not defined",
          "traceback": [
            "\u001b[0;31m---------------------------------------------------------------------------\u001b[0m",
            "\u001b[0;31mNameError\u001b[0m                                 Traceback (most recent call last)",
            "\u001b[0;32m<ipython-input-3-be776d1c5ebb>\u001b[0m in \u001b[0;36m<cell line: 0>\u001b[0;34m()\u001b[0m\n\u001b[0;32m----> 1\u001b[0;31m \u001b[0mtorch\u001b[0m\u001b[0;34m.\u001b[0m\u001b[0msave\u001b[0m\u001b[0;34m(\u001b[0m\u001b[0mmodel\u001b[0m\u001b[0;34m.\u001b[0m\u001b[0mstate_dict\u001b[0m\u001b[0;34m(\u001b[0m\u001b[0;34m)\u001b[0m\u001b[0;34m,\u001b[0m \u001b[0;34m\"gtsrb_cnn_pytorch.pth\"\u001b[0m\u001b[0;34m)\u001b[0m\u001b[0;34m\u001b[0m\u001b[0;34m\u001b[0m\u001b[0m\n\u001b[0m",
            "\u001b[0;31mNameError\u001b[0m: name 'torch' is not defined"
          ]
        }
      ]
    },
    {
      "cell_type": "code",
      "source": [],
      "metadata": {
        "id": "7egIclltV3Sh"
      },
      "execution_count": null,
      "outputs": []
    }
  ]
}